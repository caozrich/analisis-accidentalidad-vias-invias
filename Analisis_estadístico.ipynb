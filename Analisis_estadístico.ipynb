{
  "nbformat": 4,
  "nbformat_minor": 0,
  "metadata": {
    "colab": {
      "provenance": []
    },
    "kernelspec": {
      "name": "python3",
      "display_name": "Python 3"
    },
    "language_info": {
      "name": "python"
    }
  },
  "cells": [
    {
      "cell_type": "markdown",
      "source": [
        "## Análisis estadístico:\n"
      ],
      "metadata": {
        "id": "RXNiV1jdBNkn"
      }
    },
    {
      "cell_type": "code",
      "source": [
        "import pandas as pd\n",
        "\n",
        "# Cargar el archivo CSV en un DataFrame\n",
        "xlsx_file = '/content/Accidentalidad_Vial_2017_-_2021.csv'\n",
        "df = pd.read_csv(xlsx_file)\n",
        "\n",
        "columnas_interes = [\"n_heridos\", \"n_muertos\", \"n_victimas\"]\n",
        "subset_df = df[columnas_interes]\n",
        "\n",
        "estadisticas_descriptivas = subset_df.describe()\n",
        "print(estadisticas_descriptivas)"
      ],
      "metadata": {
        "colab": {
          "base_uri": "https://localhost:8080/"
        },
        "id": "TDyASj8IBnSV",
        "outputId": "dee87786-c896-455f-e8f7-9ad749d673b2"
      },
      "execution_count": 7,
      "outputs": [
        {
          "output_type": "stream",
          "name": "stdout",
          "text": [
            "          n_heridos    n_muertos    n_victimas\n",
            "count  18553.000000  18553.00000  11492.000000\n",
            "mean       0.598609      0.10823      1.185607\n",
            "std        1.284167      0.37441      2.504110\n",
            "min        0.000000      0.00000      0.000000\n",
            "25%        0.000000      0.00000      0.000000\n",
            "50%        0.000000      0.00000      1.000000\n",
            "75%        1.000000      0.00000      1.000000\n",
            "max       35.000000      9.00000    123.000000\n"
          ]
        },
        {
          "output_type": "stream",
          "name": "stderr",
          "text": [
            "<ipython-input-7-201cb8a52fdd>:5: DtypeWarning: Columns (32,40) have mixed types. Specify dtype option on import or set low_memory=False.\n",
            "  df = pd.read_csv(xlsx_file)\n"
          ]
        }
      ]
    }
  ]
}