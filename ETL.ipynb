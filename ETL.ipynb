{
  "nbformat": 4,
  "nbformat_minor": 0,
  "metadata": {
    "colab": {
      "provenance": []
    },
    "kernelspec": {
      "name": "python3",
      "display_name": "Python 3"
    },
    "language_info": {
      "name": "python"
    }
  },
  "cells": [
    {
      "cell_type": "markdown",
      "source": [
        "## Análisis de accidentes viales (Proceso de ETL)\n",
        "\n",
        "1) Cargar librerías"
      ],
      "metadata": {
        "id": "RXNiV1jdBNkn"
      }
    },
    {
      "cell_type": "code",
      "source": [
        "import pandas as pd\n",
        "import unicodedata"
      ],
      "metadata": {
        "id": "TDyASj8IBnSV"
      },
      "execution_count": 5,
      "outputs": []
    },
    {
      "cell_type": "markdown",
      "source": [
        "2) Cargar conjunto de datos"
      ],
      "metadata": {
        "id": "WejI97QaBogO"
      }
    },
    {
      "cell_type": "code",
      "execution_count": 6,
      "metadata": {
        "colab": {
          "base_uri": "https://localhost:8080/"
        },
        "id": "ZaOcXe1kuMtS",
        "outputId": "3a98e901-86d2-4505-a695-ad9a0ac94a32"
      },
      "outputs": [
        {
          "output_type": "stream",
          "name": "stdout",
          "text": [
            "Número de duplicados encontrados: 0\n"
          ]
        },
        {
          "output_type": "stream",
          "name": "stderr",
          "text": [
            "<ipython-input-6-2b57fb77a3fe>:3: DtypeWarning: Columns (32,40) have mixed types. Specify dtype option on import or set low_memory=False.\n",
            "  df = pd.read_csv(xlsx_file)\n"
          ]
        }
      ],
      "source": [
        "# Cargamos el archivo CSV en un DataFrame\n",
        "xlsx_file = '/content/Accidentalidad_Vial_2017_-_2021.csv'\n",
        "df = pd.read_csv(xlsx_file)\n",
        "\n",
        "# 1. Buscar duplicados\n",
        "duplicados = df[df.duplicated()]\n",
        "numero_duplicados = len(duplicados)\n",
        "\n",
        "print(f\"Número de duplicados encontrados: {numero_duplicados}\")\n"
      ]
    },
    {
      "cell_type": "markdown",
      "source": [
        "3) Formatear nombres de municipios para asegurar compatibilidad con el archivo geojson usado para visualizar el mapa de Colombia."
      ],
      "metadata": {
        "id": "rO8QP2Z7Bzn6"
      }
    },
    {
      "cell_type": "code",
      "source": [
        "def limpiar_y_mayusculas(texto):\n",
        "    texto_limpio = ''.join((c for c in unicodedata.normalize('NFD', texto) if unicodedata.category(c) != 'Mn'))\n",
        "    return texto_limpio.upper()\n",
        "\n",
        "# Aplicar la función a la columna \"territorial\" del DataFrame\n",
        "df['territorial'] = df['territorial'].apply(limpiar_y_mayusculas)\n",
        "\n",
        "# Cambiar \"GUAJIRA\" a \"LA GUAJIRA\" en la columna \"territorial\" NARINO\n",
        "df['territorial'] = df['territorial'].replace('GUAJIRA', 'LA GUAJIRA')\n",
        "df['territorial'] = df['territorial'].replace('NARINO', 'NARIÑO')\n",
        "\n"
      ],
      "metadata": {
        "id": "THBKEwa0xGRX"
      },
      "execution_count": null,
      "outputs": []
    },
    {
      "cell_type": "markdown",
      "source": [
        "## 4) Remover la fechas que se salen del rango de fecha dado por los metadatos del conjunto de datos."
      ],
      "metadata": {
        "id": "QYD8Dya0EN1L"
      }
    },
    {
      "cell_type": "markdown",
      "source": [],
      "metadata": {
        "id": "hEd8D2T2EF1Z"
      }
    },
    {
      "cell_type": "code",
      "source": [
        "\n",
        "# filtrar las filas fuera del rango de tiempo\n",
        "df = df[df['fecha_acc'].dt.year > 2016]\n",
        "\n",
        "\n",
        "\n"
      ],
      "metadata": {
        "id": "bMcJLPWvvyQs"
      },
      "execution_count": null,
      "outputs": []
    },
    {
      "cell_type": "markdown",
      "source": [
        "## 5) Asegurar a consistencia de los datos de la columna \"dia_semana_acc\"."
      ],
      "metadata": {
        "id": "MfMlyrxFEtKz"
      }
    },
    {
      "cell_type": "code",
      "source": [
        "\n",
        "\n",
        "#cambiar valores \"miercoles\" a \"Miércoles\" y 'sabado' a 'Sábado'\n",
        "df['dia_semana_acc'] = df['dia_semana_acc'].replace('miercoles', 'Miércoles')\n",
        "df['dia_semana_acc'] = df['dia_semana_acc'].replace('sabado', 'Sábado')\n",
        "\n"
      ],
      "metadata": {
        "id": "78By2kcoAnKX"
      },
      "execution_count": null,
      "outputs": []
    }
  ]
}